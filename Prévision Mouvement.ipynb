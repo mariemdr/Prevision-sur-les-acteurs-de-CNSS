{
 "cells": [
  {
   "cell_type": "markdown",
   "id": "94b4ba09",
   "metadata": {},
   "source": [
    "## <font color='brown'> Importation des données </font>"
   ]
  },
  {
   "cell_type": "markdown",
   "id": "061179d2",
   "metadata": {},
   "source": [
    "### <font color='cornflowerblue'> Importation des librairies </font>"
   ]
  },
  {
   "cell_type": "code",
   "execution_count": 115,
   "id": "43fad126",
   "metadata": {},
   "outputs": [],
   "source": [
    "import pandas as pd\n",
    "import numpy as np\n",
    "\n",
    "import warnings\n",
    "warnings.simplefilter(\"ignore\")\n",
    "\n",
    "from sklearn.linear_model import LinearRegression\n",
    "\n",
    "from sklearn.model_selection import train_test_split\n",
    "\n",
    "import matplotlib.pyplot as plt\n",
    "%matplotlib inline\n",
    "\n",
    "import statsmodels.api as stm\n",
    "\n",
    "from sklearn.neighbors import KNeighborsClassifier"
   ]
  },
  {
   "cell_type": "markdown",
   "id": "9b87bdee",
   "metadata": {},
   "source": [
    "### <font color='cornflowerblue'> Lecture des données de Mouvement </font>"
   ]
  },
  {
   "cell_type": "code",
   "execution_count": 116,
   "id": "251e8a5b",
   "metadata": {},
   "outputs": [
    {
     "data": {
      "text/html": [
       "<div>\n",
       "<style scoped>\n",
       "    .dataframe tbody tr th:only-of-type {\n",
       "        vertical-align: middle;\n",
       "    }\n",
       "\n",
       "    .dataframe tbody tr th {\n",
       "        vertical-align: top;\n",
       "    }\n",
       "\n",
       "    .dataframe thead th {\n",
       "        text-align: right;\n",
       "    }\n",
       "</style>\n",
       "<table border=\"1\" class=\"dataframe\">\n",
       "  <thead>\n",
       "    <tr style=\"text-align: right;\">\n",
       "      <th></th>\n",
       "      <th>ID_ACTEUR</th>\n",
       "      <th>TYPE</th>\n",
       "      <th>nb_mvt</th>\n",
       "      <th>nb_br</th>\n",
       "    </tr>\n",
       "  </thead>\n",
       "  <tbody>\n",
       "    <tr>\n",
       "      <th>0</th>\n",
       "      <td>2</td>\n",
       "      <td>Emp</td>\n",
       "      <td>4</td>\n",
       "      <td>1</td>\n",
       "    </tr>\n",
       "    <tr>\n",
       "      <th>1</th>\n",
       "      <td>3</td>\n",
       "      <td>Emp</td>\n",
       "      <td>4</td>\n",
       "      <td>1</td>\n",
       "    </tr>\n",
       "    <tr>\n",
       "      <th>2</th>\n",
       "      <td>4</td>\n",
       "      <td>Tns</td>\n",
       "      <td>8</td>\n",
       "      <td>1</td>\n",
       "    </tr>\n",
       "    <tr>\n",
       "      <th>3</th>\n",
       "      <td>5</td>\n",
       "      <td>Emp</td>\n",
       "      <td>4</td>\n",
       "      <td>1</td>\n",
       "    </tr>\n",
       "    <tr>\n",
       "      <th>4</th>\n",
       "      <td>5</td>\n",
       "      <td>Tns</td>\n",
       "      <td>10</td>\n",
       "      <td>1</td>\n",
       "    </tr>\n",
       "    <tr>\n",
       "      <th>...</th>\n",
       "      <td>...</td>\n",
       "      <td>...</td>\n",
       "      <td>...</td>\n",
       "      <td>...</td>\n",
       "    </tr>\n",
       "    <tr>\n",
       "      <th>305</th>\n",
       "      <td>1419032</td>\n",
       "      <td>Tns</td>\n",
       "      <td>11</td>\n",
       "      <td>2</td>\n",
       "    </tr>\n",
       "    <tr>\n",
       "      <th>306</th>\n",
       "      <td>1419064</td>\n",
       "      <td>Tns</td>\n",
       "      <td>13</td>\n",
       "      <td>2</td>\n",
       "    </tr>\n",
       "    <tr>\n",
       "      <th>307</th>\n",
       "      <td>1419091</td>\n",
       "      <td>Tns</td>\n",
       "      <td>4</td>\n",
       "      <td>1</td>\n",
       "    </tr>\n",
       "    <tr>\n",
       "      <th>308</th>\n",
       "      <td>1419093</td>\n",
       "      <td>Tns</td>\n",
       "      <td>4</td>\n",
       "      <td>1</td>\n",
       "    </tr>\n",
       "    <tr>\n",
       "      <th>309</th>\n",
       "      <td>1419151</td>\n",
       "      <td>Tns</td>\n",
       "      <td>4</td>\n",
       "      <td>1</td>\n",
       "    </tr>\n",
       "  </tbody>\n",
       "</table>\n",
       "<p>310 rows × 4 columns</p>\n",
       "</div>"
      ],
      "text/plain": [
       "     ID_ACTEUR TYPE  nb_mvt  nb_br\n",
       "0            2  Emp       4      1\n",
       "1            3  Emp       4      1\n",
       "2            4  Tns       8      1\n",
       "3            5  Emp       4      1\n",
       "4            5  Tns      10      1\n",
       "..         ...  ...     ...    ...\n",
       "305    1419032  Tns      11      2\n",
       "306    1419064  Tns      13      2\n",
       "307    1419091  Tns       4      1\n",
       "308    1419093  Tns       4      1\n",
       "309    1419151  Tns       4      1\n",
       "\n",
       "[310 rows x 4 columns]"
      ]
     },
     "execution_count": 116,
     "metadata": {},
     "output_type": "execute_result"
    }
   ],
   "source": [
    "df_mvt=pd.read_excel(r'C:\\Users\\asus\\Desktop\\previsionCNSS\\data.xlsx')\n",
    "df_mvt"
   ]
  },
  {
   "cell_type": "markdown",
   "id": "0da8b358",
   "metadata": {},
   "source": [
    "### <font color='cornflowerblue'>Les pourcentages de mouvements selon le type d'acteur</font>"
   ]
  },
  {
   "cell_type": "code",
   "execution_count": 117,
   "id": "addd7c17",
   "metadata": {
    "scrolled": true
   },
   "outputs": [
    {
     "data": {
      "image/png": "[encoded data removed]",
      "text/plain": [
       "<Figure size 360x360 with 1 Axes>"
      ]
     },
     "metadata": {},
     "output_type": "display_data"
    }
   ],
   "source": [
    "df_mvt.groupby(['TYPE']).sum().plot(kind='pie',y='nb_mvt', shadow=True, startangle=90,figsize=(5,5),\n",
    "autopct='%1.2f%%', colors=['burlywood','cornflowerblue'],title=\"Les pourcentages de mouvements selon le type d'acteur\")\n",
    "plt.show()"
   ]
  },
  {
   "cell_type": "markdown",
   "id": "d68df21a",
   "metadata": {},
   "source": [
    "### <font color='cornflowerblue'>Les pourcentages de Nombre de mouvement selon le Nombre de bureau</font>"
   ]
  },
  {
   "cell_type": "code",
   "execution_count": 118,
   "id": "cc3d8ab6",
   "metadata": {},
   "outputs": [
    {
     "data": {
      "image/png": "[encoded data removed]",
      "text/plain": [
       "<Figure size 576x504 with 1 Axes>"
      ]
     },
     "metadata": {},
     "output_type": "display_data"
    }
   ],
   "source": [
    "dt=df_mvt.groupby(['nb_br']).sum()\n",
    "dt['%']=(dt['nb_mvt']/dt['nb_mvt'].sum())*100\n",
    "\n",
    "labels = ['%s, %1.3f %%' % (l, s) for l, s in zip(dt.index, dt['%'])]\n",
    "\n",
    "dt.plot(kind='pie',y='nb_mvt', shadow=True, startangle=90,figsize=(8,7),autopct='%1.3f%%',pctdistance = 0.8,\n",
    "colors=['sandybrown','cornflowerblue','pink','palegreen','mediumorchid','purple'],title=\"Les pourcentages de Nombre de mouvement selon le Nombre de bureau\"\n",
    ",fontsize=14)\n",
    "\n",
    "plt.legend(bbox_to_anchor=(1, 1), loc='upper left', labels=labels,fontsize=14)\n",
    "plt.show()\n"
   ]
  },
  {
   "cell_type": "markdown",
   "id": "e3a1631e",
   "metadata": {},
   "source": [
    "### <font color='cornflowerblue'>Affichage des valeurs min et max des colonnes </font>"
   ]
  },
  {
   "cell_type": "code",
   "execution_count": 119,
   "id": "bcce04a5",
   "metadata": {},
   "outputs": [
    {
     "name": "stdout",
     "output_type": "stream",
     "text": [
      "Les valeurs min de cette DataFrame sont:\n",
      "\n",
      " ID_ACTEUR      2\n",
      "TYPE         Emp\n",
      "nb_mvt         1\n",
      "nb_br          1\n",
      "dtype: object\n",
      "\n",
      " ***************************************** \n",
      "\n",
      "Les valeurs max de cette DataFrame sont:\n",
      "\n",
      " ID_ACTEUR    1419151\n",
      "TYPE             Tns\n",
      "nb_mvt           287\n",
      "nb_br              5\n",
      "dtype: object\n"
     ]
    }
   ],
   "source": [
    "print('Les valeurs min de cette DataFrame sont:\\n\\n',df_mvt.min())\n",
    "print('\\n ***************************************** \\n')\n",
    "print('Les valeurs max de cette DataFrame sont:\\n\\n',df_mvt.max())"
   ]
  },
  {
   "cell_type": "code",
   "execution_count": 120,
   "id": "6603ccc4",
   "metadata": {},
   "outputs": [
    {
     "data": {
      "text/plain": [
       "ID_ACTEUR    0\n",
       "TYPE         0\n",
       "nb_mvt       0\n",
       "nb_br        0\n",
       "dtype: int64"
      ]
     },
     "execution_count": 120,
     "metadata": {},
     "output_type": "execute_result"
    }
   ],
   "source": [
    "#Test sur les lignes nulles\n",
    "df_mvt.isnull().sum()"
   ]
  },
  {
   "cell_type": "markdown",
   "id": "6b1cee96",
   "metadata": {},
   "source": [
    "## <font color='brown'> Division des données </font>"
   ]
  },
  {
   "cell_type": "code",
   "execution_count": 121,
   "id": "4c7c0fbe",
   "metadata": {},
   "outputs": [],
   "source": [
    "x=df_mvt[['nb_br']]\n",
    "y=df_mvt[[\"nb_mvt\"]]\n",
    "train=np.array(x)\n",
    "test=np.array(y)"
   ]
  },
  {
   "cell_type": "code",
   "execution_count": 122,
   "id": "d48226a5",
   "metadata": {},
   "outputs": [],
   "source": [
    "x_train, x_test, y_train , y_test =train_test_split(train,test,test_size=0.2,random_state=2)"
   ]
  },
  {
   "cell_type": "markdown",
   "id": "8302e4d4",
   "metadata": {},
   "source": [
    "### <font color='cornflowerblue'> Présentation de Test et Train Set</font>"
   ]
  },
  {
   "cell_type": "code",
   "execution_count": 123,
   "id": "cac5767b",
   "metadata": {},
   "outputs": [
    {
     "data": {
      "image/png": "[encoded data removed]",
      "text/plain": [
       "<Figure size 432x288 with 1 Axes>"
      ]
     },
     "metadata": {
      "needs_background": "light"
     },
     "output_type": "display_data"
    }
   ],
   "source": [
    "plt.scatter(x_train,y_train, label='TrainSet',color ='blue')\n",
    "plt.scatter(x_test, y_test, label='TestSet', color='green')\n",
    "plt.xlabel(' nb_br',fontsize=14)\n",
    "plt.ylabel('nb_mvt',fontsize=14)\n",
    "plt.title('Train et test Set',fontsize=16)\n",
    "plt.legend()\n",
    "plt.show()"
   ]
  },
  {
   "cell_type": "markdown",
   "id": "319e2944",
   "metadata": {},
   "source": [
    "## <font color='brown'> Modèle de Regression OLS en utilisant Statsmodels </font>"
   ]
  },
  {
   "cell_type": "code",
   "execution_count": 124,
   "id": "cfa726db",
   "metadata": {},
   "outputs": [
    {
     "name": "stdout",
     "output_type": "stream",
     "text": [
      "Le R squared de ce modèle: 0.49649965159483556\n"
     ]
    }
   ],
   "source": [
    "model = stm.OLS(y,x)\n",
    "res=model.fit()\n",
    "score_mvt1=res.rsquared\n",
    "print(\"Le R squared de ce modèle:\",score_mvt1)"
   ]
  },
  {
   "cell_type": "code",
   "execution_count": 125,
   "id": "9241d969",
   "metadata": {},
   "outputs": [
    {
     "name": "stdout",
     "output_type": "stream",
     "text": [
      "Le nom de Modèle: <statsmodels.regression.linear_model.OLS object at 0x00000219ED71A800>\n",
      "\n",
      " ***********************************\n",
      "\n",
      "Le nom de variable à prédire est: nb_mvt\n",
      "\n",
      " ***********************************\n",
      "\n",
      "Le nom de variable dépendante est: ['nb_br']\n"
     ]
    }
   ],
   "source": [
    "print(\"Le nom de Modèle:\",res.model)  \n",
    "print('\\n ***********************************\\n')\n",
    "print(\"Le nom de variable à prédire est:\",res.model.data.ynames) \n",
    "print('\\n ***********************************\\n')\n",
    "print(\"Le nom de variable dépendante est:\",res.model.data.xnames)\n"
   ]
  },
  {
   "cell_type": "code",
   "execution_count": 126,
   "id": "eee14d62",
   "metadata": {},
   "outputs": [
    {
     "name": "stdout",
     "output_type": "stream",
     "text": [
      "Les valeurs prédites :\n",
      "[11 11 11 11 11 23 11 11 11 11 11 11 11 23 23 11 23 23 35 35 35 35 35 11\n",
      " 35 35 35 35 35 35 35 58 58 58 58 58 58 35 58 58 46 58 46 46 46 46 23 11\n",
      " 35 11 35 11 11 11 23 23 11 11 23 23 23 23 11 11 58 23 11 58 11 23 23 23\n",
      " 23 23 23 11 11 35 11 35 46 46 46 46 46 46 46 46 46 11 46 46 46 46 46 46\n",
      " 11 35 23 11 11 11 11 11 11 11 11 23 11 11 11 23 11 11 23 11 11 11 11 11\n",
      " 11 11 23 11 11 11 11 11 11 23 11 11 11 11 11 11 23 11 11 11 11 11 11 11\n",
      " 11 11 11 11 11 11 23 11 11 11 11 11 35 23 11 11 11 11 11 23 11 11 11 23\n",
      " 35 11 11 11 11 11 23 11 11 11 11 11 11 11 11 11 11 23 11 23 11 11 11 11\n",
      " 11 11 11 11 11 11 11 23 11 11 11 11 11 11 11 11 23 11 11 11 11 11 11 23\n",
      " 23 11 11 23 11 11 11 11 11 11 11 11 11 11 23 11 11 11 11 11 11 11 23 23\n",
      " 11 11 11 11 11 11 11 11 11 11 11 11 11 11 11 23 23 11 11 11 23 23 23 11\n",
      " 11 11 11 11 11 11 11 11 11 11 11 11 11 11 23 11 11 23 11 23 11 11 11 11\n",
      " 11 11 11 11 11 11 11 11 11 11 11 11 11 11 11 23 11 23 23 11 11 11]\n"
     ]
    }
   ],
   "source": [
    "y_pred_mvt1=res.fittedvalues\n",
    "print('Les valeurs prédites :', np.array(y_pred_mvt1).astype(int), sep='\\n') #float"
   ]
  },
  {
   "cell_type": "markdown",
   "id": "fe7fc04c",
   "metadata": {},
   "source": [
    "## <font color='brown'> Modèle de Regression Linéaire en utilisant scikit-learn </font>"
   ]
  },
  {
   "cell_type": "markdown",
   "id": "b4a425af",
   "metadata": {},
   "source": [
    "### <font color='cornflowerblue'> 1) Création de Modèle</font>"
   ]
  },
  {
   "cell_type": "code",
   "execution_count": 127,
   "id": "4c42ec84",
   "metadata": {},
   "outputs": [],
   "source": [
    "reg=LinearRegression()"
   ]
  },
  {
   "cell_type": "markdown",
   "id": "838a96d4",
   "metadata": {},
   "source": [
    "### <font color='cornflowerblue'> 2) Entraînement de Modèle</font>"
   ]
  },
  {
   "cell_type": "code",
   "execution_count": 128,
   "id": "eebcf38c",
   "metadata": {},
   "outputs": [
    {
     "data": {
      "text/plain": [
       "LinearRegression()"
      ]
     },
     "execution_count": 128,
     "metadata": {},
     "output_type": "execute_result"
    }
   ],
   "source": [
    "reg.fit(x_train, y_train)"
   ]
  },
  {
   "cell_type": "code",
   "execution_count": 129,
   "id": "c56c095a",
   "metadata": {},
   "outputs": [
    {
     "name": "stdout",
     "output_type": "stream",
     "text": [
      "[-7.99626719] [[14.92382823]]\n"
     ]
    }
   ],
   "source": [
    "print(reg.intercept_,reg.coef_) "
   ]
  },
  {
   "cell_type": "code",
   "execution_count": 130,
   "id": "4c0bb01d",
   "metadata": {},
   "outputs": [
    {
     "name": "stdout",
     "output_type": "stream",
     "text": [
      "L'approximation linéaire est donc y = ax+b avec a=[[14.92382823]] , b=[-7.99626719]\n",
      "Nombre de Mouvement = [[14.92382823]] * Nombre de bureau + ([-7.99626719])\n"
     ]
    }
   ],
   "source": [
    "print(\"L'approximation linéaire est donc y = ax+b avec a={} , b={}\".format(reg.coef_ , reg.intercept_))\n",
    "print(\"Nombre de Mouvement = {} * Nombre de bureau + ({})\".format(reg.coef_ , reg.intercept_))"
   ]
  },
  {
   "cell_type": "markdown",
   "id": "957316be",
   "metadata": {},
   "source": [
    "### <font color='cornflowerblue'> 3) Evaluation de Modèle </font>"
   ]
  },
  {
   "cell_type": "code",
   "execution_count": 131,
   "id": "1b620191",
   "metadata": {},
   "outputs": [
    {
     "name": "stdout",
     "output_type": "stream",
     "text": [
      "Le Score de ce modèle: 0.5130071454267723\n"
     ]
    }
   ],
   "source": [
    "score_mvt2=reg.score(x_test,y_test)\n",
    "print(\"Le Score de ce modèle:\",score_mvt2)"
   ]
  },
  {
   "cell_type": "markdown",
   "id": "74a03073",
   "metadata": {},
   "source": [
    "### <font color='cornflowerblue'> 4) Prédiction des données</font>"
   ]
  },
  {
   "cell_type": "markdown",
   "id": "a432992f",
   "metadata": {},
   "source": [
    "#### <font color='lightseagreen'>  Methode 1:</font>"
   ]
  },
  {
   "cell_type": "code",
   "execution_count": 132,
   "id": "43bccd38",
   "metadata": {},
   "outputs": [
    {
     "data": {
      "text/plain": [
       "array([[ 6],\n",
       "       [ 6],\n",
       "       [ 6],\n",
       "       [51],\n",
       "       [ 6],\n",
       "       [ 6],\n",
       "       [ 6],\n",
       "       [ 6],\n",
       "       [ 6],\n",
       "       [21],\n",
       "       [21],\n",
       "       [51],\n",
       "       [ 6],\n",
       "       [21],\n",
       "       [ 6],\n",
       "       [21],\n",
       "       [ 6],\n",
       "       [ 6],\n",
       "       [21],\n",
       "       [21],\n",
       "       [ 6],\n",
       "       [ 6],\n",
       "       [36],\n",
       "       [ 6],\n",
       "       [36],\n",
       "       [ 6],\n",
       "       [ 6],\n",
       "       [36],\n",
       "       [ 6],\n",
       "       [ 6],\n",
       "       [ 6],\n",
       "       [ 6],\n",
       "       [ 6],\n",
       "       [66],\n",
       "       [ 6],\n",
       "       [ 6],\n",
       "       [21],\n",
       "       [ 6],\n",
       "       [ 6],\n",
       "       [ 6],\n",
       "       [ 6],\n",
       "       [ 6],\n",
       "       [ 6],\n",
       "       [21],\n",
       "       [ 6],\n",
       "       [36],\n",
       "       [ 6],\n",
       "       [51],\n",
       "       [ 6],\n",
       "       [ 6],\n",
       "       [ 6],\n",
       "       [66],\n",
       "       [ 6],\n",
       "       [ 6],\n",
       "       [ 6],\n",
       "       [ 6],\n",
       "       [ 6],\n",
       "       [ 6],\n",
       "       [ 6],\n",
       "       [ 6],\n",
       "       [66],\n",
       "       [21]])"
      ]
     },
     "execution_count": 132,
     "metadata": {},
     "output_type": "execute_result"
    }
   ],
   "source": [
    "y_pred_mvt2=(reg.predict(x_test)).astype(int)\n",
    "y_pred_mvt2"
   ]
  },
  {
   "cell_type": "markdown",
   "id": "c8b9020f",
   "metadata": {},
   "source": [
    "#### <font color='lightseagreen'> Methode 2:</font>"
   ]
  },
  {
   "cell_type": "code",
   "execution_count": 133,
   "id": "c5f084dc",
   "metadata": {},
   "outputs": [
    {
     "name": "stdout",
     "output_type": "stream",
     "text": [
      "intercept: [-7.99626719]\n",
      "Coef: [[14.92382823]]\n"
     ]
    }
   ],
   "source": [
    "print('intercept:', reg.intercept_)\n",
    "print('Coef:', reg.coef_)"
   ]
  },
  {
   "cell_type": "code",
   "execution_count": 134,
   "id": "fd9fb6ff",
   "metadata": {},
   "outputs": [
    {
     "data": {
      "text/plain": [
       "array([ 6,  6,  6, 51,  6,  6,  6,  6,  6, 21, 21, 51,  6, 21,  6, 21,  6,\n",
       "        6, 21, 21,  6,  6, 36,  6, 36,  6,  6, 36,  6,  6,  6,  6,  6, 66,\n",
       "        6,  6, 21,  6,  6,  6,  6,  6,  6, 21,  6, 36,  6, 51,  6,  6,  6,\n",
       "       66,  6,  6,  6,  6,  6,  6,  6,  6, 66, 21])"
      ]
     },
     "execution_count": 134,
     "metadata": {},
     "output_type": "execute_result"
    }
   ],
   "source": [
    "y_pred_mvt2= (reg.intercept_ + np.sum(reg.coef_ * x_test, axis=1)).astype(int)\n",
    "y_pred_mvt2"
   ]
  },
  {
   "cell_type": "markdown",
   "id": "12c47079",
   "metadata": {},
   "source": [
    "### <font color='cornflowerblue'> 5) Comparaison des données Actuels et Prédites </font>"
   ]
  },
  {
   "cell_type": "code",
   "execution_count": 135,
   "id": "4e40cddc",
   "metadata": {},
   "outputs": [
    {
     "data": {
      "text/html": [
       "<div>\n",
       "<style scoped>\n",
       "    .dataframe tbody tr th:only-of-type {\n",
       "        vertical-align: middle;\n",
       "    }\n",
       "\n",
       "    .dataframe tbody tr th {\n",
       "        vertical-align: top;\n",
       "    }\n",
       "\n",
       "    .dataframe thead th {\n",
       "        text-align: right;\n",
       "    }\n",
       "</style>\n",
       "<table border=\"1\" class=\"dataframe\">\n",
       "  <thead>\n",
       "    <tr style=\"text-align: right;\">\n",
       "      <th></th>\n",
       "      <th>y_test</th>\n",
       "      <th>y_pred_mvt2</th>\n",
       "    </tr>\n",
       "  </thead>\n",
       "  <tbody>\n",
       "    <tr>\n",
       "      <th>0</th>\n",
       "      <td>4</td>\n",
       "      <td>6</td>\n",
       "    </tr>\n",
       "    <tr>\n",
       "      <th>1</th>\n",
       "      <td>4</td>\n",
       "      <td>6</td>\n",
       "    </tr>\n",
       "    <tr>\n",
       "      <th>2</th>\n",
       "      <td>4</td>\n",
       "      <td>6</td>\n",
       "    </tr>\n",
       "    <tr>\n",
       "      <th>3</th>\n",
       "      <td>81</td>\n",
       "      <td>51</td>\n",
       "    </tr>\n",
       "    <tr>\n",
       "      <th>4</th>\n",
       "      <td>8</td>\n",
       "      <td>6</td>\n",
       "    </tr>\n",
       "    <tr>\n",
       "      <th>...</th>\n",
       "      <td>...</td>\n",
       "      <td>...</td>\n",
       "    </tr>\n",
       "    <tr>\n",
       "      <th>57</th>\n",
       "      <td>4</td>\n",
       "      <td>6</td>\n",
       "    </tr>\n",
       "    <tr>\n",
       "      <th>58</th>\n",
       "      <td>2</td>\n",
       "      <td>6</td>\n",
       "    </tr>\n",
       "    <tr>\n",
       "      <th>59</th>\n",
       "      <td>9</td>\n",
       "      <td>6</td>\n",
       "    </tr>\n",
       "    <tr>\n",
       "      <th>60</th>\n",
       "      <td>136</td>\n",
       "      <td>66</td>\n",
       "    </tr>\n",
       "    <tr>\n",
       "      <th>61</th>\n",
       "      <td>25</td>\n",
       "      <td>21</td>\n",
       "    </tr>\n",
       "  </tbody>\n",
       "</table>\n",
       "<p>62 rows × 2 columns</p>\n",
       "</div>"
      ],
      "text/plain": [
       "    y_test  y_pred_mvt2\n",
       "0        4            6\n",
       "1        4            6\n",
       "2        4            6\n",
       "3       81           51\n",
       "4        8            6\n",
       "..     ...          ...\n",
       "57       4            6\n",
       "58       2            6\n",
       "59       9            6\n",
       "60     136           66\n",
       "61      25           21\n",
       "\n",
       "[62 rows x 2 columns]"
      ]
     },
     "execution_count": 135,
     "metadata": {},
     "output_type": "execute_result"
    }
   ],
   "source": [
    "df = pd.DataFrame(np.hstack((y_test, y_pred_mvt2.reshape(-1, 1))),columns=['y_test', 'y_pred_mvt2'])\n",
    "df"
   ]
  },
  {
   "cell_type": "markdown",
   "id": "0ef33c70",
   "metadata": {},
   "source": [
    "### <font color='cornflowerblue'> Présentation des valeurs actuelles et prédites de Mouvement d'acteur en fonction du bureau </font>"
   ]
  },
  {
   "cell_type": "code",
   "execution_count": 136,
   "id": "f81609ea",
   "metadata": {
    "scrolled": true
   },
   "outputs": [
    {
     "data": {
      "image/png": "[encoded data removed]",
      "text/plain": [
       "<Figure size 432x288 with 1 Axes>"
      ]
     },
     "metadata": {
      "needs_background": "light"
     },
     "output_type": "display_data"
    }
   ],
   "source": [
    "plt.plot(y_test, label='Les valeurs actuelles')\n",
    "plt.plot(y_pred_mvt2, label='Les valeurs prédites') \n",
    "plt.xlabel(' Les valeurs actuelles',fontsize=15)\n",
    "plt.ylabel('Les valeurs prédites',fontsize=15)\n",
    "plt.title(\"Présentation des valeurs actuelles et prédites de mouvement\",fontsize=16)\n",
    "plt.legend()\n",
    "plt.show()"
   ]
  },
  {
   "cell_type": "markdown",
   "id": "4c02382d",
   "metadata": {},
   "source": [
    "## <font color='brown'> Présentation de Droite de regression </font>"
   ]
  },
  {
   "cell_type": "code",
   "execution_count": 137,
   "id": "31b9f51c",
   "metadata": {
    "scrolled": false
   },
   "outputs": [
    {
     "data": {
      "image/png": "[encoded data removed]",
      "text/plain": [
       "<Figure size 432x288 with 1 Axes>"
      ]
     },
     "metadata": {
      "needs_background": "light"
     },
     "output_type": "display_data"
    }
   ],
   "source": [
    "plt.plot(x_train, reg.predict(x_train), label='Droite de regression',color ='mediumslateblue')\n",
    "plt.scatter(x_test, y_test, label='Données réelles du testset', color='green')\n",
    "plt.xlabel('Nombre de bureau')\n",
    "plt.ylabel('Nombre de mouvement')\n",
    "plt.title('Prédiction de mouvement des acteurs en fonction du bureau')\n",
    "plt.legend()\n",
    "plt.show()"
   ]
  },
  {
   "cell_type": "markdown",
   "id": "047d8270",
   "metadata": {},
   "source": [
    "## <font color='brown'> Présentation des Scores obtenus </font>"
   ]
  },
  {
   "cell_type": "code",
   "execution_count": 138,
   "id": "7d647967",
   "metadata": {},
   "outputs": [
    {
     "data": {
      "image/png": "[encoded data removed]",
      "text/plain": [
       "<Figure size 864x432 with 1 Axes>"
      ]
     },
     "metadata": {
      "needs_background": "light"
     },
     "output_type": "display_data"
    }
   ],
   "source": [
    "x = ['Regression OLS','Regression Linéaire']\n",
    "y =[score_mvt1,score_mvt2]\n",
    "\n",
    "\n",
    "fig, ax = plt.subplots(figsize = (12,6))\n",
    "color_list = ['#FF5733', '#DAF7A6']\n",
    "\n",
    "pps = ax.bar(x, y, width= 0.4, align='center',color = color_list)\n",
    "\n",
    "for p in pps:\n",
    "    plt.annotate(format(p.get_height(), '.3f'),  \n",
    "                   (p.get_x() + p.get_width() / 2,  \n",
    "                    p.get_height()),ha='center', va='center', \n",
    "                   size=15, xytext=(0, 8), \n",
    "                   textcoords='offset points')\n",
    "    \n",
    "plt.title(\"L'application des Modèles de Régression sur Le Mouvement des acteurs en fonction du bureau\",fontsize=16)\n",
    "\n",
    "plt.xlabel('Modèle de Régression ',fontsize=18)\n",
    "plt.ylabel('Score de régression',fontsize=18)\n",
    "plt.xticks(color='#322640',fontweight='bold')\n",
    "plt.yticks(color='#322640',fontweight='bold')\n",
    "\n",
    "plt.show()"
   ]
  },
  {
   "cell_type": "markdown",
   "id": "d5246d32",
   "metadata": {},
   "source": [
    "## <font color='brown'> Modèle de Classification KNeighbors </font>\n"
   ]
  },
  {
   "cell_type": "markdown",
   "id": "7723d05b",
   "metadata": {},
   "source": [
    "### <font color='cornflowerblue'> Classification 1</font>"
   ]
  },
  {
   "cell_type": "code",
   "execution_count": 139,
   "id": "b53150aa",
   "metadata": {},
   "outputs": [],
   "source": [
    "md=KNeighborsClassifier(n_neighbors=3)"
   ]
  },
  {
   "cell_type": "code",
   "execution_count": 140,
   "id": "87afa4ad",
   "metadata": {},
   "outputs": [],
   "source": [
    "train1=df_mvt[['nb_br']]\n",
    "test1=df_mvt[['nb_mvt']]"
   ]
  },
  {
   "cell_type": "code",
   "execution_count": 141,
   "id": "27616c7c",
   "metadata": {},
   "outputs": [],
   "source": [
    "x_train1, x_test1, y_train1 , y_test1 =train_test_split(train1,test1,test_size=0.2,random_state=103)"
   ]
  },
  {
   "cell_type": "code",
   "execution_count": 142,
   "id": "9e450f84",
   "metadata": {},
   "outputs": [
    {
     "data": {
      "text/plain": [
       "KNeighborsClassifier(n_neighbors=3)"
      ]
     },
     "execution_count": 142,
     "metadata": {},
     "output_type": "execute_result"
    }
   ],
   "source": [
    "md.fit(x_train1, y_train1)"
   ]
  },
  {
   "cell_type": "code",
   "execution_count": 143,
   "id": "bb4ac441",
   "metadata": {},
   "outputs": [
    {
     "data": {
      "text/plain": [
       "0.45161290322580644"
      ]
     },
     "execution_count": 143,
     "metadata": {},
     "output_type": "execute_result"
    }
   ],
   "source": [
    "score1=md.score(x_test1, y_test1)\n",
    "score1"
   ]
  },
  {
   "cell_type": "code",
   "execution_count": 144,
   "id": "9f58e5d7",
   "metadata": {},
   "outputs": [
    {
     "name": "stdout",
     "output_type": "stream",
     "text": [
      "le nombre de mouvements prévu est : [16]\n"
     ]
    }
   ],
   "source": [
    "def mvt(md, nb_br):\n",
    "    x=np.array([nb_br]).reshape(1, 1)\n",
    "    print(\"le nombre de mouvements prévu est :\", md.predict(x))\n",
    "    \n",
    "mvt(md,4)    "
   ]
  },
  {
   "cell_type": "markdown",
   "id": "3f9514d2",
   "metadata": {},
   "source": [
    "### <font color='cornflowerblue'> Classification 2</font>"
   ]
  },
  {
   "cell_type": "code",
   "execution_count": 145,
   "id": "69b01a7b",
   "metadata": {},
   "outputs": [],
   "source": [
    "df_mvt['type_acteur']=df_mvt['TYPE'].replace(['Emp','Tns'],[1,2],inplace=False)"
   ]
  },
  {
   "cell_type": "code",
   "execution_count": 146,
   "id": "e221eb04",
   "metadata": {},
   "outputs": [],
   "source": [
    "knn=KNeighborsClassifier(n_neighbors=5)"
   ]
  },
  {
   "cell_type": "code",
   "execution_count": 147,
   "id": "e00ab306",
   "metadata": {},
   "outputs": [],
   "source": [
    "train2=df_mvt[['nb_br','nb_mvt']]\n",
    "test2=df_mvt[['type_acteur']]"
   ]
  },
  {
   "cell_type": "code",
   "execution_count": 148,
   "id": "d938ba39",
   "metadata": {},
   "outputs": [],
   "source": [
    "x_train2, x_test2, y_train2 , y_test2 =train_test_split(train2,test2,test_size=0.2,random_state=31)"
   ]
  },
  {
   "cell_type": "code",
   "execution_count": 149,
   "id": "ef2c4867",
   "metadata": {},
   "outputs": [
    {
     "data": {
      "text/plain": [
       "KNeighborsClassifier()"
      ]
     },
     "execution_count": 149,
     "metadata": {},
     "output_type": "execute_result"
    }
   ],
   "source": [
    "knn.fit(x_train2, y_train2)"
   ]
  },
  {
   "cell_type": "code",
   "execution_count": 150,
   "id": "9b925887",
   "metadata": {},
   "outputs": [
    {
     "data": {
      "text/plain": [
       "0.9516129032258065"
      ]
     },
     "execution_count": 150,
     "metadata": {},
     "output_type": "execute_result"
    }
   ],
   "source": [
    "score2=knn.score(x_test2, y_test2)\n",
    "score2"
   ]
  },
  {
   "cell_type": "code",
   "execution_count": 151,
   "id": "2ba5ba9f",
   "metadata": {},
   "outputs": [
    {
     "name": "stdout",
     "output_type": "stream",
     "text": [
      "le type d'acteur prévu est : [1] => Donc notre acteur est un : Emp\n",
      "[[0.6 0.4]]\n"
     ]
    }
   ],
   "source": [
    "def type_acteur(knn, nb_br,nb_mvt):\n",
    "    y=np.array([nb_br,nb_mvt]).reshape(1, 2)\n",
    "    type_prévu=knn.predict(y)\n",
    "    if(type_prévu==1):\n",
    "        acteur=\"Emp\"\n",
    "    else:\n",
    "        acteur=\"Tns\"\n",
    "    print(\"le type d'acteur prévu est :\",type_prévu,\"=> Donc notre acteur est un :\",acteur)\n",
    "    print(knn.predict_proba(y))\n",
    "    \n",
    "type_acteur(knn,3,62)   "
   ]
  },
  {
   "cell_type": "markdown",
   "id": "ee6e8831",
   "metadata": {},
   "source": [
    "## <font color='brown'> Présentation des Scores obtenus </font>"
   ]
  },
  {
   "cell_type": "code",
   "execution_count": 152,
   "id": "3013d94e",
   "metadata": {},
   "outputs": [
    {
     "data": {
      "image/png": "[encoded data removed]",
      "text/plain": [
       "<Figure size 864x432 with 1 Axes>"
      ]
     },
     "metadata": {
      "needs_background": "light"
     },
     "output_type": "display_data"
    }
   ],
   "source": [
    "x = ['Classification1','Classification2']\n",
    "y =[score1,score2]\n",
    "\n",
    "\n",
    "fig, ax = plt.subplots(figsize = (12,6))\n",
    "color_list = ['#FF5733', '#DAF7A6']\n",
    "\n",
    "pps = ax.bar(x, y, width= 0.4, align='center',color = color_list)\n",
    "\n",
    "for p in pps:\n",
    "    plt.annotate(format(p.get_height(), '.3f'),  \n",
    "                   (p.get_x() + p.get_width() / 2,  \n",
    "                    p.get_height()),ha='center', va='center', \n",
    "                   size=15, xytext=(0, 8), \n",
    "                   textcoords='offset points')\n",
    "    \n",
    "plt.title(\"L'application de Modèle de Classification KNeighbors \",fontsize=16)\n",
    "\n",
    "plt.xlabel('Les Classifications ',fontsize=18)\n",
    "plt.ylabel('Score de Classification',fontsize=18)\n",
    "plt.xticks(color='#322640',fontweight='bold')\n",
    "plt.yticks(color='#322640',fontweight='bold')\n",
    "\n",
    "plt.show()"
   ]
  }
 ],
 "metadata": {
  "kernelspec": {
   "display_name": "Python 3 (ipykernel)",
   "language": "python",
   "name": "python3"
  },
  "language_info": {
   "codemirror_mode": {
    "name": "ipython",
    "version": 3
   },
   "file_extension": ".py",
   "mimetype": "text/x-python",
   "name": "python",
   "nbconvert_exporter": "python",
   "pygments_lexer": "ipython3",
   "version": "3.10.2"
  }
 },
 "nbformat": 4,
 "nbformat_minor": 5
}
